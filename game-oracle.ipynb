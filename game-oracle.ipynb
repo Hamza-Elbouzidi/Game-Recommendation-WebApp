{
 "cells": [
  {
   "cell_type": "code",
   "execution_count": 1,
   "id": "01fc3d55-f61e-41cb-b4b2-ef29f0ff407f",
   "metadata": {},
   "outputs": [
    {
     "name": "stderr",
     "output_type": "stream",
     "text": [
      "The installed version of bitsandbytes was compiled without GPU support. 8-bit optimizers, 8-bit multiplication, and GPU quantization are unavailable.\n",
      "C:\\Users\\pc\\AppData\\Local\\Programs\\Python\\Python312\\Lib\\site-packages\\tqdm\\auto.py:21: TqdmWarning: IProgress not found. Please update jupyter and ipywidgets. See https://ipywidgets.readthedocs.io/en/stable/user_install.html\n",
      "  from .autonotebook import tqdm as notebook_tqdm\n"
     ]
    },
    {
     "name": "stdout",
     "output_type": "stream",
     "text": [
      "WARNING:tensorflow:From C:\\Users\\pc\\AppData\\Local\\Programs\\Python\\Python312\\Lib\\site-packages\\tf_keras\\src\\losses.py:2976: The name tf.losses.sparse_softmax_cross_entropy is deprecated. Please use tf.compat.v1.losses.sparse_softmax_cross_entropy instead.\n",
      "\n"
     ]
    }
   ],
   "source": [
    "import pandas as pd\n",
    "from angle_emb import AnglE\n",
    "angle = AnglE.from_pretrained('WhereIsAI/UAE-Large-V1', pooling_strategy='cls').cuda()"
   ]
  },
  {
   "cell_type": "code",
   "execution_count": 2,
   "id": "54c2797b-ab3f-4739-a187-e3dc6c109429",
   "metadata": {},
   "outputs": [
    {
     "data": {
      "text/html": [
       "<div>\n",
       "<style scoped>\n",
       "    .dataframe tbody tr th:only-of-type {\n",
       "        vertical-align: middle;\n",
       "    }\n",
       "\n",
       "    .dataframe tbody tr th {\n",
       "        vertical-align: top;\n",
       "    }\n",
       "\n",
       "    .dataframe thead th {\n",
       "        text-align: right;\n",
       "    }\n",
       "</style>\n",
       "<table border=\"1\" class=\"dataframe\">\n",
       "  <thead>\n",
       "    <tr style=\"text-align: right;\">\n",
       "      <th></th>\n",
       "      <th>appid</th>\n",
       "      <th>name</th>\n",
       "      <th>release_date</th>\n",
       "      <th>english</th>\n",
       "      <th>developer</th>\n",
       "      <th>publisher</th>\n",
       "      <th>platforms</th>\n",
       "      <th>required_age</th>\n",
       "      <th>categories</th>\n",
       "      <th>genres</th>\n",
       "      <th>steamspy_tags</th>\n",
       "      <th>achievements</th>\n",
       "      <th>positive_ratings</th>\n",
       "      <th>negative_ratings</th>\n",
       "      <th>average_playtime</th>\n",
       "      <th>median_playtime</th>\n",
       "      <th>owners</th>\n",
       "      <th>price</th>\n",
       "    </tr>\n",
       "  </thead>\n",
       "  <tbody>\n",
       "    <tr>\n",
       "      <th>6073</th>\n",
       "      <td>382110</td>\n",
       "      <td>Virtual Desktop</td>\n",
       "      <td>2016-03-31</td>\n",
       "      <td>1</td>\n",
       "      <td>Guy Godin</td>\n",
       "      <td>Guy Godin</td>\n",
       "      <td>windows</td>\n",
       "      <td>0</td>\n",
       "      <td>VR Support;Steam Workshop</td>\n",
       "      <td>Utilities</td>\n",
       "      <td>Utilities;VR;VR Only</td>\n",
       "      <td>0</td>\n",
       "      <td>723</td>\n",
       "      <td>316</td>\n",
       "      <td>16</td>\n",
       "      <td>16</td>\n",
       "      <td>100000-200000</td>\n",
       "      <td>10.99</td>\n",
       "    </tr>\n",
       "    <tr>\n",
       "      <th>1389</th>\n",
       "      <td>212700</td>\n",
       "      <td>Party of Sin</td>\n",
       "      <td>2012-12-13</td>\n",
       "      <td>1</td>\n",
       "      <td>Crankshaft Games</td>\n",
       "      <td>Crankshaft Games</td>\n",
       "      <td>windows</td>\n",
       "      <td>0</td>\n",
       "      <td>Single-player;Co-op;Shared/Split Screen;Steam ...</td>\n",
       "      <td>Action;Adventure;Indie</td>\n",
       "      <td>Action;Indie;Adventure</td>\n",
       "      <td>33</td>\n",
       "      <td>98</td>\n",
       "      <td>89</td>\n",
       "      <td>290</td>\n",
       "      <td>357</td>\n",
       "      <td>50000-100000</td>\n",
       "      <td>4.79</td>\n",
       "    </tr>\n",
       "    <tr>\n",
       "      <th>283</th>\n",
       "      <td>11360</td>\n",
       "      <td>Chains</td>\n",
       "      <td>2009-07-01</td>\n",
       "      <td>1</td>\n",
       "      <td>2DEngine.com</td>\n",
       "      <td>Meridian4</td>\n",
       "      <td>windows;mac</td>\n",
       "      <td>0</td>\n",
       "      <td>Single-player</td>\n",
       "      <td>Indie</td>\n",
       "      <td>Indie;Puzzle;Physics</td>\n",
       "      <td>0</td>\n",
       "      <td>433</td>\n",
       "      <td>148</td>\n",
       "      <td>36</td>\n",
       "      <td>36</td>\n",
       "      <td>100000-200000</td>\n",
       "      <td>3.99</td>\n",
       "    </tr>\n",
       "  </tbody>\n",
       "</table>\n",
       "</div>"
      ],
      "text/plain": [
       "       appid             name release_date  english         developer  \\\n",
       "6073  382110  Virtual Desktop   2016-03-31        1         Guy Godin   \n",
       "1389  212700     Party of Sin   2012-12-13        1  Crankshaft Games   \n",
       "283    11360           Chains   2009-07-01        1      2DEngine.com   \n",
       "\n",
       "             publisher    platforms  required_age  \\\n",
       "6073         Guy Godin      windows             0   \n",
       "1389  Crankshaft Games      windows             0   \n",
       "283          Meridian4  windows;mac             0   \n",
       "\n",
       "                                             categories  \\\n",
       "6073                          VR Support;Steam Workshop   \n",
       "1389  Single-player;Co-op;Shared/Split Screen;Steam ...   \n",
       "283                                       Single-player   \n",
       "\n",
       "                      genres           steamspy_tags  achievements  \\\n",
       "6073               Utilities    Utilities;VR;VR Only             0   \n",
       "1389  Action;Adventure;Indie  Action;Indie;Adventure            33   \n",
       "283                    Indie    Indie;Puzzle;Physics             0   \n",
       "\n",
       "      positive_ratings  negative_ratings  average_playtime  median_playtime  \\\n",
       "6073               723               316                16               16   \n",
       "1389                98                89               290              357   \n",
       "283                433               148                36               36   \n",
       "\n",
       "             owners  price  \n",
       "6073  100000-200000  10.99  \n",
       "1389   50000-100000   4.79  \n",
       "283   100000-200000   3.99  "
      ]
     },
     "execution_count": 2,
     "metadata": {},
     "output_type": "execute_result"
    }
   ],
   "source": [
    "df = pd.read_csv(\"data/data-with-media/steam.csv\")\n",
    "df.sample(3)"
   ]
  },
  {
   "cell_type": "code",
   "execution_count": 3,
   "id": "6b4a4779-8804-4626-8c9d-a07269f396c5",
   "metadata": {},
   "outputs": [
    {
     "data": {
      "text/html": [
       "<div>\n",
       "<style scoped>\n",
       "    .dataframe tbody tr th:only-of-type {\n",
       "        vertical-align: middle;\n",
       "    }\n",
       "\n",
       "    .dataframe tbody tr th {\n",
       "        vertical-align: top;\n",
       "    }\n",
       "\n",
       "    .dataframe thead th {\n",
       "        text-align: right;\n",
       "    }\n",
       "</style>\n",
       "<table border=\"1\" class=\"dataframe\">\n",
       "  <thead>\n",
       "    <tr style=\"text-align: right;\">\n",
       "      <th></th>\n",
       "      <th>steam_appid</th>\n",
       "      <th>header_image</th>\n",
       "      <th>screenshots</th>\n",
       "      <th>background</th>\n",
       "      <th>movies</th>\n",
       "    </tr>\n",
       "  </thead>\n",
       "  <tbody>\n",
       "    <tr>\n",
       "      <th>8923</th>\n",
       "      <td>464110</td>\n",
       "      <td>https://steamcdn-a.akamaihd.net/steam/apps/464...</td>\n",
       "      <td>[{'id': 0, 'path_thumbnail': 'https://steamcdn...</td>\n",
       "      <td>https://steamcdn-a.akamaihd.net/steam/apps/464...</td>\n",
       "      <td>[{'id': 256664827, 'name': 'Trailer', 'thumbna...</td>\n",
       "    </tr>\n",
       "    <tr>\n",
       "      <th>3337</th>\n",
       "      <td>303840</td>\n",
       "      <td>https://steamcdn-a.akamaihd.net/steam/apps/303...</td>\n",
       "      <td>[{'id': 0, 'path_thumbnail': 'https://steamcdn...</td>\n",
       "      <td>https://steamcdn-a.akamaihd.net/steam/apps/303...</td>\n",
       "      <td>[{'id': 2032611, 'name': 'Gameplay Trailer', '...</td>\n",
       "    </tr>\n",
       "    <tr>\n",
       "      <th>21219</th>\n",
       "      <td>821720</td>\n",
       "      <td>https://steamcdn-a.akamaihd.net/steam/apps/821...</td>\n",
       "      <td>[{'id': 0, 'path_thumbnail': 'https://steamcdn...</td>\n",
       "      <td>https://steamcdn-a.akamaihd.net/steam/apps/821...</td>\n",
       "      <td>[{'id': 256711072, 'name': '20.000 leagues und...</td>\n",
       "    </tr>\n",
       "  </tbody>\n",
       "</table>\n",
       "</div>"
      ],
      "text/plain": [
       "       steam_appid                                       header_image  \\\n",
       "8923        464110  https://steamcdn-a.akamaihd.net/steam/apps/464...   \n",
       "3337        303840  https://steamcdn-a.akamaihd.net/steam/apps/303...   \n",
       "21219       821720  https://steamcdn-a.akamaihd.net/steam/apps/821...   \n",
       "\n",
       "                                             screenshots  \\\n",
       "8923   [{'id': 0, 'path_thumbnail': 'https://steamcdn...   \n",
       "3337   [{'id': 0, 'path_thumbnail': 'https://steamcdn...   \n",
       "21219  [{'id': 0, 'path_thumbnail': 'https://steamcdn...   \n",
       "\n",
       "                                              background  \\\n",
       "8923   https://steamcdn-a.akamaihd.net/steam/apps/464...   \n",
       "3337   https://steamcdn-a.akamaihd.net/steam/apps/303...   \n",
       "21219  https://steamcdn-a.akamaihd.net/steam/apps/821...   \n",
       "\n",
       "                                                  movies  \n",
       "8923   [{'id': 256664827, 'name': 'Trailer', 'thumbna...  \n",
       "3337   [{'id': 2032611, 'name': 'Gameplay Trailer', '...  \n",
       "21219  [{'id': 256711072, 'name': '20.000 leagues und...  "
      ]
     },
     "execution_count": 3,
     "metadata": {},
     "output_type": "execute_result"
    }
   ],
   "source": [
    "media_df = pd.read_csv(\"data/data-with-media/steam_media_data.csv\")\n",
    "media_df.sample(3)"
   ]
  },
  {
   "cell_type": "code",
   "execution_count": 4,
   "id": "d5ac294c-9562-4b41-83de-b2de1482daa3",
   "metadata": {},
   "outputs": [],
   "source": [
    "games_df = pd.read_csv(\"data/data-with-media/steam.csv\")\n",
    "media_df = pd.read_csv(\"data/data-with-media/steam_media_data.csv\")\n",
    "description_df = pd.read_csv(\"data/data-with-media/steam_description_data.csv\")\n"
   ]
  },
  {
   "cell_type": "code",
   "execution_count": 5,
   "id": "e52053f1-b542-413f-817a-76669abc62a2",
   "metadata": {},
   "outputs": [
    {
     "data": {
      "text/html": [
       "<div>\n",
       "<style scoped>\n",
       "    .dataframe tbody tr th:only-of-type {\n",
       "        vertical-align: middle;\n",
       "    }\n",
       "\n",
       "    .dataframe tbody tr th {\n",
       "        vertical-align: top;\n",
       "    }\n",
       "\n",
       "    .dataframe thead th {\n",
       "        text-align: right;\n",
       "    }\n",
       "</style>\n",
       "<table border=\"1\" class=\"dataframe\">\n",
       "  <thead>\n",
       "    <tr style=\"text-align: right;\">\n",
       "      <th></th>\n",
       "      <th>309</th>\n",
       "      <th>24658</th>\n",
       "      <th>18376</th>\n",
       "    </tr>\n",
       "  </thead>\n",
       "  <tbody>\n",
       "    <tr>\n",
       "      <th>appid</th>\n",
       "      <td>12460</td>\n",
       "      <td>939330</td>\n",
       "      <td>745250</td>\n",
       "    </tr>\n",
       "    <tr>\n",
       "      <th>name</th>\n",
       "      <td>BC Kings</td>\n",
       "      <td>Tailor Tales</td>\n",
       "      <td>YAPP: Yet Another Puzzle Platformer</td>\n",
       "    </tr>\n",
       "    <tr>\n",
       "      <th>release_date</th>\n",
       "      <td>2009-06-16</td>\n",
       "      <td>2019-01-09</td>\n",
       "      <td>2017-12-01</td>\n",
       "    </tr>\n",
       "    <tr>\n",
       "      <th>english</th>\n",
       "      <td>1</td>\n",
       "      <td>1</td>\n",
       "      <td>1</td>\n",
       "    </tr>\n",
       "    <tr>\n",
       "      <th>developer</th>\n",
       "      <td>Mascot Entertainment</td>\n",
       "      <td>Celianna</td>\n",
       "      <td>Yet Another Game Studio</td>\n",
       "    </tr>\n",
       "    <tr>\n",
       "      <th>publisher</th>\n",
       "      <td>Strategy First</td>\n",
       "      <td>Pixanna</td>\n",
       "      <td>Yet Another Game Studio</td>\n",
       "    </tr>\n",
       "    <tr>\n",
       "      <th>platforms</th>\n",
       "      <td>windows</td>\n",
       "      <td>windows</td>\n",
       "      <td>windows</td>\n",
       "    </tr>\n",
       "    <tr>\n",
       "      <th>required_age</th>\n",
       "      <td>0</td>\n",
       "      <td>0</td>\n",
       "      <td>0</td>\n",
       "    </tr>\n",
       "    <tr>\n",
       "      <th>categories</th>\n",
       "      <td>Single-player;Multi-player</td>\n",
       "      <td>Single-player</td>\n",
       "      <td>Single-player;Steam Achievements</td>\n",
       "    </tr>\n",
       "    <tr>\n",
       "      <th>genres</th>\n",
       "      <td>Strategy</td>\n",
       "      <td>Casual;Free to Play;Simulation</td>\n",
       "      <td>Indie</td>\n",
       "    </tr>\n",
       "    <tr>\n",
       "      <th>steamspy_tags</th>\n",
       "      <td>Strategy;RTS</td>\n",
       "      <td>Free to Play;Simulation;Casual</td>\n",
       "      <td>Indie;Platformer;Puzzle</td>\n",
       "    </tr>\n",
       "    <tr>\n",
       "      <th>achievements</th>\n",
       "      <td>0</td>\n",
       "      <td>10</td>\n",
       "      <td>11</td>\n",
       "    </tr>\n",
       "    <tr>\n",
       "      <th>positive_ratings</th>\n",
       "      <td>85</td>\n",
       "      <td>112</td>\n",
       "      <td>15</td>\n",
       "    </tr>\n",
       "    <tr>\n",
       "      <th>negative_ratings</th>\n",
       "      <td>76</td>\n",
       "      <td>5</td>\n",
       "      <td>1</td>\n",
       "    </tr>\n",
       "    <tr>\n",
       "      <th>average_playtime</th>\n",
       "      <td>0</td>\n",
       "      <td>0</td>\n",
       "      <td>0</td>\n",
       "    </tr>\n",
       "    <tr>\n",
       "      <th>median_playtime</th>\n",
       "      <td>0</td>\n",
       "      <td>0</td>\n",
       "      <td>0</td>\n",
       "    </tr>\n",
       "    <tr>\n",
       "      <th>owners</th>\n",
       "      <td>20000-50000</td>\n",
       "      <td>20000-50000</td>\n",
       "      <td>0-20000</td>\n",
       "    </tr>\n",
       "    <tr>\n",
       "      <th>price</th>\n",
       "      <td>3.99</td>\n",
       "      <td>0.0</td>\n",
       "      <td>1.69</td>\n",
       "    </tr>\n",
       "    <tr>\n",
       "      <th>steam_appid</th>\n",
       "      <td>12460</td>\n",
       "      <td>939330</td>\n",
       "      <td>745250</td>\n",
       "    </tr>\n",
       "    <tr>\n",
       "      <th>header_image</th>\n",
       "      <td>https://steamcdn-a.akamaihd.net/steam/apps/124...</td>\n",
       "      <td>https://steamcdn-a.akamaihd.net/steam/apps/939...</td>\n",
       "      <td>https://steamcdn-a.akamaihd.net/steam/apps/745...</td>\n",
       "    </tr>\n",
       "    <tr>\n",
       "      <th>screenshots</th>\n",
       "      <td>[{'id': 0, 'path_thumbnail': 'https://steamcdn...</td>\n",
       "      <td>[{'id': 0, 'path_thumbnail': 'https://steamcdn...</td>\n",
       "      <td>[{'id': 0, 'path_thumbnail': 'https://steamcdn...</td>\n",
       "    </tr>\n",
       "    <tr>\n",
       "      <th>background</th>\n",
       "      <td>https://steamcdn-a.akamaihd.net/steam/apps/124...</td>\n",
       "      <td>https://steamcdn-a.akamaihd.net/steam/apps/939...</td>\n",
       "      <td>https://steamcdn-a.akamaihd.net/steam/apps/745...</td>\n",
       "    </tr>\n",
       "    <tr>\n",
       "      <th>movies</th>\n",
       "      <td>NaN</td>\n",
       "      <td>[{'id': 256727934, 'name': 'Tailor Tales Trail...</td>\n",
       "      <td>[{'id': 256699646, 'name': 'YAPP: Yet Another ...</td>\n",
       "    </tr>\n",
       "    <tr>\n",
       "      <th>detailed_description</th>\n",
       "      <td>&lt;p&gt;BC Kings features several new elements not ...</td>\n",
       "      <td>Design clothing and romance a guy of your choi...</td>\n",
       "      <td>This is a game for you, if you meet at least t...</td>\n",
       "    </tr>\n",
       "    <tr>\n",
       "      <th>about_the_game</th>\n",
       "      <td>&lt;p&gt;BC Kings features several new elements not ...</td>\n",
       "      <td>Design clothing and romance a guy of your choi...</td>\n",
       "      <td>This is a game for you, if you meet at least t...</td>\n",
       "    </tr>\n",
       "    <tr>\n",
       "      <th>short_description</th>\n",
       "      <td>BC Kings features several new elements not com...</td>\n",
       "      <td>Play as an aspiring fashion designer with your...</td>\n",
       "      <td>A challenging puzzle platformer in which you c...</td>\n",
       "    </tr>\n",
       "    <tr>\n",
       "      <th>text</th>\n",
       "      <td>Game name : BC Kings\\nDeveloper : Mascot Enter...</td>\n",
       "      <td>Game name : Tailor Tales\\nDeveloper : Celianna...</td>\n",
       "      <td>Game name : YAPP: Yet Another Puzzle Platforme...</td>\n",
       "    </tr>\n",
       "    <tr>\n",
       "      <th>minimum_owners</th>\n",
       "      <td>20000</td>\n",
       "      <td>20000</td>\n",
       "      <td>0</td>\n",
       "    </tr>\n",
       "  </tbody>\n",
       "</table>\n",
       "</div>"
      ],
      "text/plain": [
       "                                                                  309    \\\n",
       "appid                                                             12460   \n",
       "name                                                           BC Kings   \n",
       "release_date                                                 2009-06-16   \n",
       "english                                                               1   \n",
       "developer                                          Mascot Entertainment   \n",
       "publisher                                                Strategy First   \n",
       "platforms                                                       windows   \n",
       "required_age                                                          0   \n",
       "categories                                   Single-player;Multi-player   \n",
       "genres                                                         Strategy   \n",
       "steamspy_tags                                              Strategy;RTS   \n",
       "achievements                                                          0   \n",
       "positive_ratings                                                     85   \n",
       "negative_ratings                                                     76   \n",
       "average_playtime                                                      0   \n",
       "median_playtime                                                       0   \n",
       "owners                                                      20000-50000   \n",
       "price                                                              3.99   \n",
       "steam_appid                                                       12460   \n",
       "header_image          https://steamcdn-a.akamaihd.net/steam/apps/124...   \n",
       "screenshots           [{'id': 0, 'path_thumbnail': 'https://steamcdn...   \n",
       "background            https://steamcdn-a.akamaihd.net/steam/apps/124...   \n",
       "movies                                                              NaN   \n",
       "detailed_description  <p>BC Kings features several new elements not ...   \n",
       "about_the_game        <p>BC Kings features several new elements not ...   \n",
       "short_description     BC Kings features several new elements not com...   \n",
       "text                  Game name : BC Kings\\nDeveloper : Mascot Enter...   \n",
       "minimum_owners                                                    20000   \n",
       "\n",
       "                                                                  24658  \\\n",
       "appid                                                            939330   \n",
       "name                                                       Tailor Tales   \n",
       "release_date                                                 2019-01-09   \n",
       "english                                                               1   \n",
       "developer                                                      Celianna   \n",
       "publisher                                                       Pixanna   \n",
       "platforms                                                       windows   \n",
       "required_age                                                          0   \n",
       "categories                                                Single-player   \n",
       "genres                                   Casual;Free to Play;Simulation   \n",
       "steamspy_tags                            Free to Play;Simulation;Casual   \n",
       "achievements                                                         10   \n",
       "positive_ratings                                                    112   \n",
       "negative_ratings                                                      5   \n",
       "average_playtime                                                      0   \n",
       "median_playtime                                                       0   \n",
       "owners                                                      20000-50000   \n",
       "price                                                               0.0   \n",
       "steam_appid                                                      939330   \n",
       "header_image          https://steamcdn-a.akamaihd.net/steam/apps/939...   \n",
       "screenshots           [{'id': 0, 'path_thumbnail': 'https://steamcdn...   \n",
       "background            https://steamcdn-a.akamaihd.net/steam/apps/939...   \n",
       "movies                [{'id': 256727934, 'name': 'Tailor Tales Trail...   \n",
       "detailed_description  Design clothing and romance a guy of your choi...   \n",
       "about_the_game        Design clothing and romance a guy of your choi...   \n",
       "short_description     Play as an aspiring fashion designer with your...   \n",
       "text                  Game name : Tailor Tales\\nDeveloper : Celianna...   \n",
       "minimum_owners                                                    20000   \n",
       "\n",
       "                                                                  18376  \n",
       "appid                                                            745250  \n",
       "name                                YAPP: Yet Another Puzzle Platformer  \n",
       "release_date                                                 2017-12-01  \n",
       "english                                                               1  \n",
       "developer                                       Yet Another Game Studio  \n",
       "publisher                                       Yet Another Game Studio  \n",
       "platforms                                                       windows  \n",
       "required_age                                                          0  \n",
       "categories                             Single-player;Steam Achievements  \n",
       "genres                                                            Indie  \n",
       "steamspy_tags                                   Indie;Platformer;Puzzle  \n",
       "achievements                                                         11  \n",
       "positive_ratings                                                     15  \n",
       "negative_ratings                                                      1  \n",
       "average_playtime                                                      0  \n",
       "median_playtime                                                       0  \n",
       "owners                                                          0-20000  \n",
       "price                                                              1.69  \n",
       "steam_appid                                                      745250  \n",
       "header_image          https://steamcdn-a.akamaihd.net/steam/apps/745...  \n",
       "screenshots           [{'id': 0, 'path_thumbnail': 'https://steamcdn...  \n",
       "background            https://steamcdn-a.akamaihd.net/steam/apps/745...  \n",
       "movies                [{'id': 256699646, 'name': 'YAPP: Yet Another ...  \n",
       "detailed_description  This is a game for you, if you meet at least t...  \n",
       "about_the_game        This is a game for you, if you meet at least t...  \n",
       "short_description     A challenging puzzle platformer in which you c...  \n",
       "text                  Game name : YAPP: Yet Another Puzzle Platforme...  \n",
       "minimum_owners                                                        0  "
      ]
     },
     "execution_count": 5,
     "metadata": {},
     "output_type": "execute_result"
    }
   ],
   "source": [
    "df = games_df.merge(media_df, left_on=\"appid\" , right_on=\"steam_appid\").merge(description_df, on=\"steam_appid\")\n",
    "game_texts = []\n",
    "for _, row in df.iterrows():\n",
    "    game_text = f'''Game name : {row[\"name\"]}\n",
    "Developer : {row[\"developer\"]}\n",
    "Genres : {row[\"genres\"]}\n",
    "Summary : {row[\"short_description\"]}'''\n",
    "    game_texts.append(game_text)\n",
    "df[\"text\"] = game_texts\n",
    "df[\"minimum_owners\"] = df [\"owners\"].apply(lambda v : int(v.split(\"-\")[0]))\n",
    "df.sample(3).T"
   ]
  },
  {
   "cell_type": "code",
   "execution_count": 6,
   "id": "1bdfda5e-2c76-4aaf-9f62-101f7bc21da8",
   "metadata": {},
   "outputs": [],
   "source": [
    "df[\"minimum_owners\"] = df [\"owners\"].apply(lambda v : int(v.split(\"-\")[0]))\n",
    "df = df.sort_values(\"minimum_owners\",ascending = False)"
   ]
  },
  {
   "cell_type": "code",
   "execution_count": 7,
   "id": "21eb7b3c-cf9a-4fd9-89fa-d9869ae57762",
   "metadata": {},
   "outputs": [
    {
     "data": {
      "text/html": [
       "<h3>Sins of a Solar Empire: Rebellion®</h3><strong>Indie;Strategy</strong><p>Command a space-faring empire in Sins of a Solar Empire: Rebellion, the new stand-alone expansion that combines 4X depth with real-time strategy gameplay.</p><img src =\"https://steamcdn-a.akamaihd.net/steam/apps/204880/header.jpg?t=1545069627\">"
      ],
      "text/plain": [
       "<IPython.core.display.HTML object>"
      ]
     },
     "metadata": {},
     "output_type": "display_data"
    }
   ],
   "source": [
    "from IPython.display import display , HTML\n",
    "def display_game(row):\n",
    "    html =''\n",
    "    html +=  f'<h3>{row[\"name\"]}</h3>'\n",
    "    html +=  f'<strong>{row[\"genres\"]}</strong>'\n",
    "    html +=  f'<p>{row[\"short_description\"]}</p>'\n",
    "    html +=  f'<img src =\"{row[\"header_image\"]}\">'\n",
    "    display(HTML(html))\n",
    "    \n",
    "for _, row in df.sample(1, random_state=0).iterrows():\n",
    "    display_game(row)"
   ]
  },
  {
   "cell_type": "code",
   "execution_count": 8,
   "id": "42b821da-b1fa-4fd4-9ce2-88a0007cf60d",
   "metadata": {},
   "outputs": [
    {
     "name": "stderr",
     "output_type": "stream",
     "text": [
      "C:\\Users\\pc\\AppData\\Local\\Programs\\Python\\Python312\\Lib\\site-packages\\numpy\\core\\fromnumeric.py:59: FutureWarning: 'Series.swapaxes' is deprecated and will be removed in a future version. Please use 'Series.transpose' instead.\n",
      "  return bound(*args, **kwds)\n"
     ]
    },
    {
     "name": "stdout",
     "output_type": "stream",
     "text": [
      "0 / 40\n",
      "5 / 40\n",
      "10 / 40\n",
      "15 / 40\n",
      "20 / 40\n",
      "25 / 40\n",
      "30 / 40\n",
      "35 / 40\n"
     ]
    }
   ],
   "source": [
    "import numpy as np\n",
    "top_df = df.sort_values(\"minimum_owners\",ascending = False).head(2000)\n",
    "embeddings = []\n",
    "batches = np.array_split(top_df[\"text\"], len(top_df) // 50)\n",
    "for idx, chunk_text in enumerate(batches):\n",
    "    if idx % 5 == 0:\n",
    "        print(f\"{idx} / {len(batches)}\")\n",
    "    embeddings +=  list(angle.encode(list(chunk_text), to_numpy=True))\n",
    "top_df[\"embedding\"] = embeddings"
   ]
  },
  {
   "cell_type": "code",
   "execution_count": 9,
   "id": "e512797a-65f2-4f56-b916-ca3bb7c1fc72",
   "metadata": {},
   "outputs": [
    {
     "data": {
      "text/html": [
       "<h3>Counter-Strike: Global Offensive</h3><strong>Action;Free to Play</strong><p>Counter-Strike: Global Offensive (CS: GO) expands upon the team-based action gameplay that it pioneered when it was launched 19 years ago. CS: GO features new maps, characters, weapons, and game modes, and delivers updated versions of the classic CS content (de_dust2, etc.).</p><img src =\"https://steamcdn-a.akamaihd.net/steam/apps/730/header.jpg?t=1554409309\">"
      ],
      "text/plain": [
       "<IPython.core.display.HTML object>"
      ]
     },
     "metadata": {},
     "output_type": "display_data"
    },
    {
     "data": {
      "text/html": [
       "<h3>Counter-Strike</h3><strong>Action</strong><p>Play the world's number 1 online action game. Engage in an incredibly realistic brand of terrorist warfare in this wildly popular team-based game. Ally with teammates to complete strategic missions. Take out enemy sites. Rescue hostages. Your role affects your team's success. Your team's success affects your role.</p><img src =\"https://steamcdn-a.akamaihd.net/steam/apps/10/header.jpg?t=1528733245\">"
      ],
      "text/plain": [
       "<IPython.core.display.HTML object>"
      ]
     },
     "metadata": {},
     "output_type": "display_data"
    },
    {
     "data": {
      "text/html": [
       "<h3>Counter-Strike: Source</h3><strong>Action</strong><p>Just updated to include player stats, achievements, new scoreboards and more!</p><img src =\"https://steamcdn-a.akamaihd.net/steam/apps/240/header.jpg?t=1515613564\">"
      ],
      "text/plain": [
       "<IPython.core.display.HTML object>"
      ]
     },
     "metadata": {},
     "output_type": "display_data"
    },
    {
     "data": {
      "text/html": [
       "<h3>Counter-Strike: Condition Zero</h3><strong>Action</strong><p>With its extensive Tour of Duty campaign, a near-limitless number of skirmish modes, updates and new content for Counter-Strike's award-winning multiplayer game play, plus over 12 bonus single player missions, Counter-Strike: Condition Zero is a tremendous offering of single and multiplayer content.</p><img src =\"https://steamcdn-a.akamaihd.net/steam/apps/80/header.jpg?t=1512411962\">"
      ],
      "text/plain": [
       "<IPython.core.display.HTML object>"
      ]
     },
     "metadata": {},
     "output_type": "display_data"
    },
    {
     "data": {
      "text/html": [
       "<h3>Counter-Strike Nexon: Zombies</h3><strong>Action;Casual;Free to Play;Massively Multiplayer</strong><p>Counter-Strike Nexon: Zombies is a Free to Play MMOFPS offering competitive PvP and PvE action including content from the original Counter-Strike and all new game modes, maps, weapons, and hordes of Zombies!</p><img src =\"https://steamcdn-a.akamaihd.net/steam/apps/273110/header.jpg?t=1551937566\">"
      ],
      "text/plain": [
       "<IPython.core.display.HTML object>"
      ]
     },
     "metadata": {},
     "output_type": "display_data"
    },
    {
     "data": {
      "text/html": [
       "<h3>CS2D</h3><strong>Action;Casual;Free to Play;Indie</strong><p>CS2D is a free fast-paced top-down multiplayer shooter. Featuring many different game modes, a built-in map editor and much more.</p><img src =\"https://steamcdn-a.akamaihd.net/steam/apps/666220/header.jpg?t=1512325846\">"
      ],
      "text/plain": [
       "<IPython.core.display.HTML object>"
      ]
     },
     "metadata": {},
     "output_type": "display_data"
    },
    {
     "data": {
      "text/html": [
       "<h3>Team Fortress 2</h3><strong>Action;Free to Play</strong><p>Nine distinct classes provide a broad range of tactical abilities and personalities. Constantly updated with new game modes, maps, equipment and, most importantly, hats!</p><img src =\"https://steamcdn-a.akamaihd.net/steam/apps/440/header.jpg?t=1539304875\">"
      ],
      "text/plain": [
       "<IPython.core.display.HTML object>"
      ]
     },
     "metadata": {},
     "output_type": "display_data"
    },
    {
     "data": {
      "text/html": [
       "<h3>Dota 2</h3><strong>Action;Free to Play;Strategy</strong><p>Every day, millions of players worldwide enter battle as one of over a hundred Dota heroes. And no matter if it's their 10th hour of play or 1,000th, there's always something new to discover. With regular updates that ensure a constant evolution of gameplay, features, and heroes, Dota 2 has taken on a life of its own.</p><img src =\"https://steamcdn-a.akamaihd.net/steam/apps/570/header.jpg?t=1554408611\">"
      ],
      "text/plain": [
       "<IPython.core.display.HTML object>"
      ]
     },
     "metadata": {},
     "output_type": "display_data"
    },
    {
     "data": {
      "text/html": [
       "<h3>Easy™ eSports</h3><strong>Utilities</strong><p>Keeping games fun! Play fair with the leading third-party anti-cheat client for Counter-Strike, used in competitive leagues and tournaments. The Easy™ eSports client is required for joining those game servers.</p><img src =\"https://steamcdn-a.akamaihd.net/steam/apps/282660/header.jpg?t=1553783989\">"
      ],
      "text/plain": [
       "<IPython.core.display.HTML object>"
      ]
     },
     "metadata": {},
     "output_type": "display_data"
    },
    {
     "data": {
      "text/html": [
       "<h3>Team Fortress Classic</h3><strong>Action</strong><p>One of the most popular online action games of all time, Team Fortress Classic features over nine character classes -- from Medic to Spy to Demolition Man -- enlisted in a unique style of online team warfare. Each character class possesses unique weapons, items, and abilities, as teams compete online in a variety of game play modes.</p><img src =\"https://steamcdn-a.akamaihd.net/steam/apps/20/header.jpg?t=1528732825\">"
      ],
      "text/plain": [
       "<IPython.core.display.HTML object>"
      ]
     },
     "metadata": {},
     "output_type": "display_data"
    },
    {
     "data": {
      "text/html": [
       "<h3>Ricochet</h3><strong>Action</strong><p>A futuristic action game that challenges your agility as well as your aim, Ricochet features one-on-one and team matches played in a variety of futuristic battle arenas.</p><img src =\"https://steamcdn-a.akamaihd.net/steam/apps/60/header.jpg?t=1528733092\">"
      ],
      "text/plain": [
       "<IPython.core.display.HTML object>"
      ]
     },
     "metadata": {},
     "output_type": "display_data"
    },
    {
     "data": {
      "text/html": [
       "<h3>Half-Life 2: Deathmatch</h3><strong>Action</strong><p>Fast multiplayer action set in the Half-Life 2 universe! HL2's physics adds a new dimension to deathmatch play. Play straight deathmatch or try Combine vs. Resistance teamplay. Toss a toilet at your friend today!</p><img src =\"https://steamcdn-a.akamaihd.net/steam/apps/320/header.jpg?t=1512752170\">"
      ],
      "text/plain": [
       "<IPython.core.display.HTML object>"
      ]
     },
     "metadata": {},
     "output_type": "display_data"
    },
    {
     "data": {
      "text/html": [
       "<h3>Strife®</h3><strong>Action;Free to Play;RPG;Strategy</strong><p>Strife® is a truly free to play, competitive, online ARTS / MOBA that features non-stop action and engaging combat. Take control of powerful and versatile heroes, each capable of dominating in unique ways, and exert your will in an epic battle between two teams.</p><img src =\"https://steamcdn-a.akamaihd.net/steam/apps/339280/header.jpg?t=1548174420\">"
      ],
      "text/plain": [
       "<IPython.core.display.HTML object>"
      ]
     },
     "metadata": {},
     "output_type": "display_data"
    },
    {
     "data": {
      "text/html": [
       "<h3>Half-Life: Source</h3><strong>Action</strong><p>Winner of over 50 Game of the Year awards, Half-Life set new standards for action games when it was released in 1998. Half-Life: Source is a digitally remastered version of the critically acclaimed and best selling PC game, enhanced via Source technology to include physics simulation, enhanced effects, and more.</p><img src =\"https://steamcdn-a.akamaihd.net/steam/apps/280/header.jpg?t=1530046549\">"
      ],
      "text/plain": [
       "<IPython.core.display.HTML object>"
      ]
     },
     "metadata": {},
     "output_type": "display_data"
    },
    {
     "data": {
      "text/html": [
       "<h3>Half-Life 2</h3><strong>Action</strong><p>1998. HALF-LIFE sends a shock through the game industry with its combination of pounding action and continuous, immersive storytelling. Valve's debut title wins more than 50 game-of-the-year awards on its way to being named \"Best PC Game Ever\" by PC Gamer, and launches a franchise with more than eight million retail units sold worldwide.</p><img src =\"https://steamcdn-a.akamaihd.net/steam/apps/220/header.jpg?t=1541802014\">"
      ],
      "text/plain": [
       "<IPython.core.display.HTML object>"
      ]
     },
     "metadata": {},
     "output_type": "display_data"
    },
    {
     "data": {
      "text/html": [
       "<h3>Half-Life Deathmatch: Source</h3><strong>Action</strong><p>Half-Life Deathmatch: Source is a recreation of the first multiplayer game set in the Half-Life universe. Features all the classic weapons and most-played maps, now running on the Source engine.</p><img src =\"https://steamcdn-a.akamaihd.net/steam/apps/360/header.jpg?t=1530046445\">"
      ],
      "text/plain": [
       "<IPython.core.display.HTML object>"
      ]
     },
     "metadata": {},
     "output_type": "display_data"
    },
    {
     "data": {
      "text/html": [
       "<h3>Half-Life</h3><strong>Action</strong><p>Named Game of the Year by over 50 publications, Valve's debut title blends action and adventure with award-winning technology to create a frighteningly realistic world where players must think to survive. Also includes an exciting multiplayer mode that allows you to play against friends and enemies around the world.</p><img src =\"https://steamcdn-a.akamaihd.net/steam/apps/70/header.jpg?t=1530045175\">"
      ],
      "text/plain": [
       "<IPython.core.display.HTML object>"
      ]
     },
     "metadata": {},
     "output_type": "display_data"
    },
    {
     "data": {
      "text/html": [
       "<h3>Quake Live™</h3><strong>Action</strong><p>From the legendary series that founded the online shooter genre comes the most exciting, energetic, and fast-paced shooter on the Internet. Play against players around the world in over 100 arenas, and a dozen game modes, in one of the most competitive shooters online today. Welcome to Quake Live.</p><img src =\"https://steamcdn-a.akamaihd.net/steam/apps/282440/header.jpg?t=1543499450\">"
      ],
      "text/plain": [
       "<IPython.core.display.HTML object>"
      ]
     },
     "metadata": {},
     "output_type": "display_data"
    },
    {
     "data": {
      "text/html": [
       "<h3>S.K.I.L.L. - Special Force 2 (Shooter)</h3><strong>Action;Adventure;Free to Play;Sports;Strategy</strong><p>S.K.I.L.L. - Special Force 2 is a fast-paced, action-packed FPS shooter based on the Unreal Engine 3. The game features a wide range of game modes, tons of maps and a huge selection of weapons.</p><img src =\"https://steamcdn-a.akamaihd.net/steam/apps/286940/header.jpg?t=1543246868\">"
      ],
      "text/plain": [
       "<IPython.core.display.HTML object>"
      ]
     },
     "metadata": {},
     "output_type": "display_data"
    },
    {
     "data": {
      "text/html": [
       "<h3>Left 4 Dead</h3><strong>Action</strong><p>From Valve (the creators of Counter-Strike, Half-Life and more) comes Left 4 Dead, a co-op action horror game for the PC and Xbox 360 that casts up to four players in an epic struggle for survival against swarming zombie hordes and terrifying mutant monsters.</p><img src =\"https://steamcdn-a.akamaihd.net/steam/apps/500/header.jpg?t=1517005754\">"
      ],
      "text/plain": [
       "<IPython.core.display.HTML object>"
      ]
     },
     "metadata": {},
     "output_type": "display_data"
    }
   ],
   "source": [
    "from sklearn.metrics.pairwise import cosine_distances\n",
    "game_name = 'Counter-Strike: Global Offensive'\n",
    "game_row = top_df[top_df[\"name\"] == game_name].iloc[0]\n",
    "distances = cosine_distances(np.array([game_row.embedding]), np.array(top_df.embedding.tolist()))[0]\n",
    "sorted_indices = distances.argsort()\n",
    "for idx in sorted_indices[:20]:\n",
    "    similar_game = top_df.iloc[idx]\n",
    "    display_game(similar_game)"
   ]
  },
  {
   "cell_type": "code",
   "execution_count": 10,
   "id": "d439c1d2-4b14-4e6f-9cfe-ebf357665b44",
   "metadata": {},
   "outputs": [],
   "source": [
    "game_texts = []\n",
    "for _, row in df.iterrows():\n",
    "    game_text = f'''Game name : {row[\"name\"]}\n",
    "Developer : {row[\"developer\"]}\n",
    "Genres : {row[\"genres\"]}\n",
    "Summary : {row[\"short_description\"]}'''\n",
    "    game_texts.append(game_text)\n",
    "df[\"text\"] = game_texts"
   ]
  },
  {
   "cell_type": "code",
   "execution_count": 11,
   "id": "2561c0ad-50c7-41cb-8442-bf482f4ddf98",
   "metadata": {},
   "outputs": [],
   "source": [
    "top_df.to_parquet(\"data/game_database.parquet\")"
   ]
  },
  {
   "cell_type": "code",
   "execution_count": 12,
   "id": "e216ed8a-b867-499f-b11c-d5c82d89d5d1",
   "metadata": {},
   "outputs": [],
   "source": [
    "import textdistance"
   ]
  },
  {
   "cell_type": "code",
   "execution_count": 13,
   "id": "e7984382-3e2c-49ea-8a95-2ad2e576af13",
   "metadata": {},
   "outputs": [
    {
     "data": {
      "text/plain": [
       "2"
      ]
     },
     "execution_count": 13,
     "metadata": {},
     "output_type": "execute_result"
    }
   ],
   "source": [
    "textdistance.levenshtein(\"path of ele\",\"path of exile\")"
   ]
  },
  {
   "cell_type": "code",
   "execution_count": 15,
   "id": "d209d145-000a-4455-94e2-14d6ce10fcd1",
   "metadata": {},
   "outputs": [
    {
     "data": {
      "text/plain": [
       "1772     3\n",
       "2357     6\n",
       "4234     7\n",
       "1759     7\n",
       "7138     8\n",
       "        ..\n",
       "7027    68\n",
       "704     69\n",
       "2175    72\n",
       "4934    88\n",
       "4994    96\n",
       "Name: name, Length: 2000, dtype: int64"
      ]
     },
     "execution_count": 15,
     "metadata": {},
     "output_type": "execute_result"
    }
   ],
   "source": [
    "top_df[\"name\"].apply(lambda v : textdistance.levenshtein(v, \"path of exale\")).sort_values()"
   ]
  },
  {
   "cell_type": "code",
   "execution_count": 16,
   "id": "eee8d359-7f5a-4786-9ba1-e00f37db1993",
   "metadata": {},
   "outputs": [
    {
     "data": {
      "text/plain": [
       "appid                                                              238960\n",
       "name                                                        Path of Exile\n",
       "release_date                                                   2013-10-23\n",
       "english                                                                 1\n",
       "developer                                             Grinding Gear Games\n",
       "publisher                                             Grinding Gear Games\n",
       "platforms                                                         windows\n",
       "required_age                                                            0\n",
       "categories              Single-player;Multi-player;Online Multi-Player...\n",
       "genres                  Action;Adventure;Free to Play;Indie;Massively ...\n",
       "steamspy_tags                      Free to Play;Action RPG;Hack and Slash\n",
       "achievements                                                          120\n",
       "positive_ratings                                                    71593\n",
       "negative_ratings                                                     6117\n",
       "average_playtime                                                     5263\n",
       "median_playtime                                                       492\n",
       "owners                                                  10000000-20000000\n",
       "price                                                                 0.0\n",
       "steam_appid                                                        238960\n",
       "header_image            https://steamcdn-a.akamaihd.net/steam/apps/238...\n",
       "screenshots             [{'id': 0, 'path_thumbnail': 'https://steamcdn...\n",
       "background              https://steamcdn-a.akamaihd.net/steam/apps/238...\n",
       "movies                  [{'id': 256744974, 'name': 'Path of Exile: Syn...\n",
       "detailed_description    You are an Exile, struggling to survive on the...\n",
       "about_the_game          You are an Exile, struggling to survive on the...\n",
       "short_description       You are an Exile, struggling to survive on the...\n",
       "text                    Game name : Path of Exile\\nDeveloper : Grindin...\n",
       "minimum_owners                                                   10000000\n",
       "embedding               [-0.4345439, 0.20984901, -0.9525346, -0.343680...\n",
       "Name: 1772, dtype: object"
      ]
     },
     "execution_count": 16,
     "metadata": {},
     "output_type": "execute_result"
    }
   ],
   "source": [
    "top_df.loc[1772]"
   ]
  },
  {
   "cell_type": "code",
   "execution_count": null,
   "id": "3703d704-e5a4-4daa-a48a-9e534bda3391",
   "metadata": {},
   "outputs": [],
   "source": [
    "print(top_df[\"name\"].head(40).tolist())"
   ]
  },
  {
   "cell_type": "code",
   "execution_count": null,
   "id": "45f08aa8-64fd-4637-b904-a00f05eaad38",
   "metadata": {},
   "outputs": [],
   "source": [
    "df[\"embedding\"] = list(angle.encode(df[\"text\"].tolist(), to_numpy=True))"
   ]
  },
  {
   "cell_type": "code",
   "execution_count": null,
   "id": "b5aa89d9-be82-46e9-9781-5b21855a9d47",
   "metadata": {},
   "outputs": [],
   "source": [
    "list(angle.encode(df[\"short_description\"].tolist()[:100], to_numpy=True))"
   ]
  },
  {
   "cell_type": "code",
   "execution_count": null,
   "id": "3ded6638-86ee-4bf2-be0b-a0b2ce9dd229",
   "metadata": {},
   "outputs": [],
   "source": [
    "distances[distances.argsort()]"
   ]
  },
  {
   "cell_type": "code",
   "execution_count": null,
   "id": "ff2d10fe-2996-4cd9-95e4-40d551a0e7e5",
   "metadata": {},
   "outputs": [],
   "source": [
    "#pip install -U angle-emb"
   ]
  },
  {
   "cell_type": "code",
   "execution_count": null,
   "id": "164f40c3-e307-439f-a257-3fc8f2363a95",
   "metadata": {},
   "outputs": [],
   "source": [
    "#pip install tf-keras"
   ]
  },
  {
   "cell_type": "code",
   "execution_count": null,
   "id": "8c972717-1e08-41dd-a1d1-e7cd9b690906",
   "metadata": {},
   "outputs": [],
   "source": [
    "vec = angle.encode('hello world', to_numpy = True)\n",
    "print(vec)\n",
    "vecs=angle.encode(['hello world1','hello world2'], to_numpy=True)\n",
    "print(vecs)"
   ]
  },
  {
   "cell_type": "code",
   "execution_count": null,
   "id": "48f89ec0-a03b-43b1-9fe3-f14417a9ee76",
   "metadata": {},
   "outputs": [],
   "source": [
    "from sklearn.metrics.pairwise import cosine_distances\n",
    "cosine_distances(angle.encode(['beef stakes is delicious ',\n",
    "                              'the capital of Morocco is Rabat',\n",
    "                              'I love meat']))[0]"
   ]
  },
  {
   "cell_type": "code",
   "execution_count": null,
   "id": "546b8800-1449-4929-bac9-369dbd9b00ae",
   "metadata": {},
   "outputs": [],
   "source": [
    "#Minute 1:12:20"
   ]
  }
 ],
 "metadata": {
  "kernelspec": {
   "display_name": "Python 3",
   "language": "python",
   "name": "python3"
  },
  "language_info": {
   "codemirror_mode": {
    "name": "ipython",
    "version": 3
   },
   "file_extension": ".py",
   "mimetype": "text/x-python",
   "name": "python",
   "nbconvert_exporter": "python",
   "pygments_lexer": "ipython3",
   "version": "3.12.4"
  }
 },
 "nbformat": 4,
 "nbformat_minor": 5
}
