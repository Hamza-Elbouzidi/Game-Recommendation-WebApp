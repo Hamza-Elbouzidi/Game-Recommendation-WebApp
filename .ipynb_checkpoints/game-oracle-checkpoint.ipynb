{
 "cells": [
  {
   "cell_type": "code",
   "execution_count": 2,
   "id": "01fc3d55-f61e-41cb-b4b2-ef29f0ff407f",
   "metadata": {},
   "outputs": [
    {
     "name": "stderr",
     "output_type": "stream",
     "text": [
      "The installed version of bitsandbytes was compiled without GPU support. 8-bit optimizers, 8-bit multiplication, and GPU quantization are unavailable.\n",
      "C:\\Users\\pc\\AppData\\Local\\Programs\\Python\\Python312\\Lib\\site-packages\\tqdm\\auto.py:21: TqdmWarning: IProgress not found. Please update jupyter and ipywidgets. See https://ipywidgets.readthedocs.io/en/stable/user_install.html\n",
      "  from .autonotebook import tqdm as notebook_tqdm\n"
     ]
    },
    {
     "name": "stdout",
     "output_type": "stream",
     "text": [
      "WARNING:tensorflow:From C:\\Users\\pc\\AppData\\Local\\Programs\\Python\\Python312\\Lib\\site-packages\\tf_keras\\src\\losses.py:2976: The name tf.losses.sparse_softmax_cross_entropy is deprecated. Please use tf.compat.v1.losses.sparse_softmax_cross_entropy instead.\n",
      "\n"
     ]
    }
   ],
   "source": [
    "import pandas as pd\n",
    "from angle_emb import AnglE\n",
    "angle = AnglE.from_pretrained('WhereIsAI/UAE-Large-V1', pooling_strategy='cls').cuda()"
   ]
  },
  {
   "cell_type": "code",
   "execution_count": 3,
   "id": "54c2797b-ab3f-4739-a187-e3dc6c109429",
   "metadata": {},
   "outputs": [
    {
     "data": {
      "text/html": [
       "<div>\n",
       "<style scoped>\n",
       "    .dataframe tbody tr th:only-of-type {\n",
       "        vertical-align: middle;\n",
       "    }\n",
       "\n",
       "    .dataframe tbody tr th {\n",
       "        vertical-align: top;\n",
       "    }\n",
       "\n",
       "    .dataframe thead th {\n",
       "        text-align: right;\n",
       "    }\n",
       "</style>\n",
       "<table border=\"1\" class=\"dataframe\">\n",
       "  <thead>\n",
       "    <tr style=\"text-align: right;\">\n",
       "      <th></th>\n",
       "      <th>appid</th>\n",
       "      <th>name</th>\n",
       "      <th>release_date</th>\n",
       "      <th>english</th>\n",
       "      <th>developer</th>\n",
       "      <th>publisher</th>\n",
       "      <th>platforms</th>\n",
       "      <th>required_age</th>\n",
       "      <th>categories</th>\n",
       "      <th>genres</th>\n",
       "      <th>steamspy_tags</th>\n",
       "      <th>achievements</th>\n",
       "      <th>positive_ratings</th>\n",
       "      <th>negative_ratings</th>\n",
       "      <th>average_playtime</th>\n",
       "      <th>median_playtime</th>\n",
       "      <th>owners</th>\n",
       "      <th>price</th>\n",
       "    </tr>\n",
       "  </thead>\n",
       "  <tbody>\n",
       "    <tr>\n",
       "      <th>1149</th>\n",
       "      <td>111100</td>\n",
       "      <td>Snuggle Truck</td>\n",
       "      <td>2012-02-03</td>\n",
       "      <td>1</td>\n",
       "      <td>Owlchemy Labs</td>\n",
       "      <td>Owlchemy Labs</td>\n",
       "      <td>windows;mac;linux</td>\n",
       "      <td>0</td>\n",
       "      <td>Single-player;Steam Achievements;Steam Trading...</td>\n",
       "      <td>Casual;Indie;Racing</td>\n",
       "      <td>Casual;Racing;Indie</td>\n",
       "      <td>11</td>\n",
       "      <td>363</td>\n",
       "      <td>81</td>\n",
       "      <td>199</td>\n",
       "      <td>199</td>\n",
       "      <td>100000-200000</td>\n",
       "      <td>3.99</td>\n",
       "    </tr>\n",
       "    <tr>\n",
       "      <th>16008</th>\n",
       "      <td>676550</td>\n",
       "      <td>Crash Test Billy</td>\n",
       "      <td>2017-08-18</td>\n",
       "      <td>1</td>\n",
       "      <td>SP Digital Arts Inc.</td>\n",
       "      <td>SP Digital Arts Inc.</td>\n",
       "      <td>windows</td>\n",
       "      <td>0</td>\n",
       "      <td>Single-player</td>\n",
       "      <td>Action;Casual;Simulation;Early Access</td>\n",
       "      <td>Early Access;Casual;Simulation</td>\n",
       "      <td>0</td>\n",
       "      <td>3</td>\n",
       "      <td>8</td>\n",
       "      <td>0</td>\n",
       "      <td>0</td>\n",
       "      <td>0-20000</td>\n",
       "      <td>2.79</td>\n",
       "    </tr>\n",
       "    <tr>\n",
       "      <th>14738</th>\n",
       "      <td>640430</td>\n",
       "      <td>Dragon's Dungeon: Awakening</td>\n",
       "      <td>2017-08-11</td>\n",
       "      <td>1</td>\n",
       "      <td>LunarPixel</td>\n",
       "      <td>Atriagames</td>\n",
       "      <td>windows;mac;linux</td>\n",
       "      <td>0</td>\n",
       "      <td>Single-player;Steam Achievements</td>\n",
       "      <td>Action;Adventure;Indie;RPG</td>\n",
       "      <td>RPG;Adventure;Indie</td>\n",
       "      <td>40</td>\n",
       "      <td>56</td>\n",
       "      <td>26</td>\n",
       "      <td>0</td>\n",
       "      <td>0</td>\n",
       "      <td>0-20000</td>\n",
       "      <td>6.99</td>\n",
       "    </tr>\n",
       "  </tbody>\n",
       "</table>\n",
       "</div>"
      ],
      "text/plain": [
       "        appid                         name release_date  english  \\\n",
       "1149   111100                Snuggle Truck   2012-02-03        1   \n",
       "16008  676550             Crash Test Billy   2017-08-18        1   \n",
       "14738  640430  Dragon's Dungeon: Awakening   2017-08-11        1   \n",
       "\n",
       "                  developer             publisher          platforms  \\\n",
       "1149          Owlchemy Labs         Owlchemy Labs  windows;mac;linux   \n",
       "16008  SP Digital Arts Inc.  SP Digital Arts Inc.            windows   \n",
       "14738            LunarPixel            Atriagames  windows;mac;linux   \n",
       "\n",
       "       required_age                                         categories  \\\n",
       "1149              0  Single-player;Steam Achievements;Steam Trading...   \n",
       "16008             0                                      Single-player   \n",
       "14738             0                   Single-player;Steam Achievements   \n",
       "\n",
       "                                      genres                   steamspy_tags  \\\n",
       "1149                     Casual;Indie;Racing             Casual;Racing;Indie   \n",
       "16008  Action;Casual;Simulation;Early Access  Early Access;Casual;Simulation   \n",
       "14738             Action;Adventure;Indie;RPG             RPG;Adventure;Indie   \n",
       "\n",
       "       achievements  positive_ratings  negative_ratings  average_playtime  \\\n",
       "1149             11               363                81               199   \n",
       "16008             0                 3                 8                 0   \n",
       "14738            40                56                26                 0   \n",
       "\n",
       "       median_playtime         owners  price  \n",
       "1149               199  100000-200000   3.99  \n",
       "16008                0        0-20000   2.79  \n",
       "14738                0        0-20000   6.99  "
      ]
     },
     "execution_count": 3,
     "metadata": {},
     "output_type": "execute_result"
    }
   ],
   "source": [
    "df = pd.read_csv(\"data/data-with-media/steam.csv\")\n",
    "df.sample(3)"
   ]
  },
  {
   "cell_type": "code",
   "execution_count": 4,
   "id": "6b4a4779-8804-4626-8c9d-a07269f396c5",
   "metadata": {},
   "outputs": [
    {
     "data": {
      "text/html": [
       "<div>\n",
       "<style scoped>\n",
       "    .dataframe tbody tr th:only-of-type {\n",
       "        vertical-align: middle;\n",
       "    }\n",
       "\n",
       "    .dataframe tbody tr th {\n",
       "        vertical-align: top;\n",
       "    }\n",
       "\n",
       "    .dataframe thead th {\n",
       "        text-align: right;\n",
       "    }\n",
       "</style>\n",
       "<table border=\"1\" class=\"dataframe\">\n",
       "  <thead>\n",
       "    <tr style=\"text-align: right;\">\n",
       "      <th></th>\n",
       "      <th>steam_appid</th>\n",
       "      <th>header_image</th>\n",
       "      <th>screenshots</th>\n",
       "      <th>background</th>\n",
       "      <th>movies</th>\n",
       "    </tr>\n",
       "  </thead>\n",
       "  <tbody>\n",
       "    <tr>\n",
       "      <th>15335</th>\n",
       "      <td>658530</td>\n",
       "      <td>https://steamcdn-a.akamaihd.net/steam/apps/658...</td>\n",
       "      <td>[{'id': 0, 'path_thumbnail': 'https://steamcdn...</td>\n",
       "      <td>https://steamcdn-a.akamaihd.net/steam/apps/658...</td>\n",
       "      <td>[{'id': 256688264, 'name': 'Grisaia Phantom Tr...</td>\n",
       "    </tr>\n",
       "    <tr>\n",
       "      <th>16572</th>\n",
       "      <td>690220</td>\n",
       "      <td>https://steamcdn-a.akamaihd.net/steam/apps/690...</td>\n",
       "      <td>[{'id': 0, 'path_thumbnail': 'https://steamcdn...</td>\n",
       "      <td>https://steamcdn-a.akamaihd.net/steam/apps/690...</td>\n",
       "      <td>[{'id': 256694879, 'name': 'CMSNEW', 'thumbnai...</td>\n",
       "    </tr>\n",
       "    <tr>\n",
       "      <th>24357</th>\n",
       "      <td>922090</td>\n",
       "      <td>https://steamcdn-a.akamaihd.net/steam/apps/922...</td>\n",
       "      <td>[{'id': 0, 'path_thumbnail': 'https://steamcdn...</td>\n",
       "      <td>https://steamcdn-a.akamaihd.net/steam/apps/922...</td>\n",
       "      <td>[{'id': 256726878, 'name': 'CMD 2048 - Launch ...</td>\n",
       "    </tr>\n",
       "  </tbody>\n",
       "</table>\n",
       "</div>"
      ],
      "text/plain": [
       "       steam_appid                                       header_image  \\\n",
       "15335       658530  https://steamcdn-a.akamaihd.net/steam/apps/658...   \n",
       "16572       690220  https://steamcdn-a.akamaihd.net/steam/apps/690...   \n",
       "24357       922090  https://steamcdn-a.akamaihd.net/steam/apps/922...   \n",
       "\n",
       "                                             screenshots  \\\n",
       "15335  [{'id': 0, 'path_thumbnail': 'https://steamcdn...   \n",
       "16572  [{'id': 0, 'path_thumbnail': 'https://steamcdn...   \n",
       "24357  [{'id': 0, 'path_thumbnail': 'https://steamcdn...   \n",
       "\n",
       "                                              background  \\\n",
       "15335  https://steamcdn-a.akamaihd.net/steam/apps/658...   \n",
       "16572  https://steamcdn-a.akamaihd.net/steam/apps/690...   \n",
       "24357  https://steamcdn-a.akamaihd.net/steam/apps/922...   \n",
       "\n",
       "                                                  movies  \n",
       "15335  [{'id': 256688264, 'name': 'Grisaia Phantom Tr...  \n",
       "16572  [{'id': 256694879, 'name': 'CMSNEW', 'thumbnai...  \n",
       "24357  [{'id': 256726878, 'name': 'CMD 2048 - Launch ...  "
      ]
     },
     "execution_count": 4,
     "metadata": {},
     "output_type": "execute_result"
    }
   ],
   "source": [
    "media_df = pd.read_csv(\"data/data-with-media/steam_media_data.csv\")\n",
    "media_df.sample(3)"
   ]
  },
  {
   "cell_type": "code",
   "execution_count": 5,
   "id": "d5ac294c-9562-4b41-83de-b2de1482daa3",
   "metadata": {},
   "outputs": [],
   "source": [
    "games_df = pd.read_csv(\"data/data-with-media/steam.csv\")\n",
    "media_df = pd.read_csv(\"data/data-with-media/steam_media_data.csv\")\n",
    "description_df = pd.read_csv(\"data/data-with-media/steam_description_data.csv\")\n"
   ]
  },
  {
   "cell_type": "code",
   "execution_count": 6,
   "id": "e52053f1-b542-413f-817a-76669abc62a2",
   "metadata": {},
   "outputs": [
    {
     "data": {
      "text/html": [
       "<div>\n",
       "<style scoped>\n",
       "    .dataframe tbody tr th:only-of-type {\n",
       "        vertical-align: middle;\n",
       "    }\n",
       "\n",
       "    .dataframe tbody tr th {\n",
       "        vertical-align: top;\n",
       "    }\n",
       "\n",
       "    .dataframe thead th {\n",
       "        text-align: right;\n",
       "    }\n",
       "</style>\n",
       "<table border=\"1\" class=\"dataframe\">\n",
       "  <thead>\n",
       "    <tr style=\"text-align: right;\">\n",
       "      <th></th>\n",
       "      <th>7695</th>\n",
       "      <th>19514</th>\n",
       "      <th>19897</th>\n",
       "    </tr>\n",
       "  </thead>\n",
       "  <tbody>\n",
       "    <tr>\n",
       "      <th>appid</th>\n",
       "      <td>430960</td>\n",
       "      <td>776970</td>\n",
       "      <td>787720</td>\n",
       "    </tr>\n",
       "    <tr>\n",
       "      <th>name</th>\n",
       "      <td>Lucy -The Eternity She Wished For-</td>\n",
       "      <td>Scary new year</td>\n",
       "      <td>Block'hood VR</td>\n",
       "    </tr>\n",
       "    <tr>\n",
       "      <th>release_date</th>\n",
       "      <td>2016-02-28</td>\n",
       "      <td>2018-01-25</td>\n",
       "      <td>2018-04-19</td>\n",
       "    </tr>\n",
       "    <tr>\n",
       "      <th>english</th>\n",
       "      <td>1</td>\n",
       "      <td>1</td>\n",
       "      <td>1</td>\n",
       "    </tr>\n",
       "    <tr>\n",
       "      <th>developer</th>\n",
       "      <td>Modern Visual Arts Laboratory;SEO INSEOK</td>\n",
       "      <td>SimplexGameStudio</td>\n",
       "      <td>Plethora-Project LLC;General Arcade</td>\n",
       "    </tr>\n",
       "    <tr>\n",
       "      <th>publisher</th>\n",
       "      <td>Modern Visual Arts Laboratory</td>\n",
       "      <td>SimplexGameStudio</td>\n",
       "      <td>Devolver Digital</td>\n",
       "    </tr>\n",
       "    <tr>\n",
       "      <th>platforms</th>\n",
       "      <td>windows</td>\n",
       "      <td>windows;mac;linux</td>\n",
       "      <td>windows</td>\n",
       "    </tr>\n",
       "    <tr>\n",
       "      <th>required_age</th>\n",
       "      <td>0</td>\n",
       "      <td>0</td>\n",
       "      <td>0</td>\n",
       "    </tr>\n",
       "    <tr>\n",
       "      <th>categories</th>\n",
       "      <td>Single-player;Steam Trading Cards</td>\n",
       "      <td>Single-player</td>\n",
       "      <td>Single-player;Steam Achievements</td>\n",
       "    </tr>\n",
       "    <tr>\n",
       "      <th>genres</th>\n",
       "      <td>Casual;Indie;Simulation</td>\n",
       "      <td>Violent;Gore;Action;Adventure;Casual</td>\n",
       "      <td>Indie;Simulation;Strategy</td>\n",
       "    </tr>\n",
       "    <tr>\n",
       "      <th>steamspy_tags</th>\n",
       "      <td>Visual Novel;Anime;Dating Sim</td>\n",
       "      <td>Action;Adventure;Casual</td>\n",
       "      <td>Simulation;Strategy;Indie</td>\n",
       "    </tr>\n",
       "    <tr>\n",
       "      <th>achievements</th>\n",
       "      <td>0</td>\n",
       "      <td>0</td>\n",
       "      <td>39</td>\n",
       "    </tr>\n",
       "    <tr>\n",
       "      <th>positive_ratings</th>\n",
       "      <td>5341</td>\n",
       "      <td>0</td>\n",
       "      <td>4</td>\n",
       "    </tr>\n",
       "    <tr>\n",
       "      <th>negative_ratings</th>\n",
       "      <td>238</td>\n",
       "      <td>3</td>\n",
       "      <td>2</td>\n",
       "    </tr>\n",
       "    <tr>\n",
       "      <th>average_playtime</th>\n",
       "      <td>213</td>\n",
       "      <td>0</td>\n",
       "      <td>0</td>\n",
       "    </tr>\n",
       "    <tr>\n",
       "      <th>median_playtime</th>\n",
       "      <td>317</td>\n",
       "      <td>0</td>\n",
       "      <td>0</td>\n",
       "    </tr>\n",
       "    <tr>\n",
       "      <th>owners</th>\n",
       "      <td>100000-200000</td>\n",
       "      <td>0-20000</td>\n",
       "      <td>0-20000</td>\n",
       "    </tr>\n",
       "    <tr>\n",
       "      <th>price</th>\n",
       "      <td>6.99</td>\n",
       "      <td>10.29</td>\n",
       "      <td>11.39</td>\n",
       "    </tr>\n",
       "    <tr>\n",
       "      <th>steam_appid</th>\n",
       "      <td>430960</td>\n",
       "      <td>776970</td>\n",
       "      <td>787720</td>\n",
       "    </tr>\n",
       "    <tr>\n",
       "      <th>header_image</th>\n",
       "      <td>https://steamcdn-a.akamaihd.net/steam/apps/430...</td>\n",
       "      <td>https://steamcdn-a.akamaihd.net/steam/apps/776...</td>\n",
       "      <td>https://steamcdn-a.akamaihd.net/steam/apps/787...</td>\n",
       "    </tr>\n",
       "    <tr>\n",
       "      <th>screenshots</th>\n",
       "      <td>[{'id': 0, 'path_thumbnail': 'https://steamcdn...</td>\n",
       "      <td>[{'id': 0, 'path_thumbnail': 'https://steamcdn...</td>\n",
       "      <td>[{'id': 0, 'path_thumbnail': 'https://steamcdn...</td>\n",
       "    </tr>\n",
       "    <tr>\n",
       "      <th>background</th>\n",
       "      <td>https://steamcdn-a.akamaihd.net/steam/apps/430...</td>\n",
       "      <td>https://steamcdn-a.akamaihd.net/steam/apps/776...</td>\n",
       "      <td>https://steamcdn-a.akamaihd.net/steam/apps/787...</td>\n",
       "    </tr>\n",
       "    <tr>\n",
       "      <th>movies</th>\n",
       "      <td>[{'id': 256660512, 'name': 'Lucy - The Eternit...</td>\n",
       "      <td>[{'id': 256705711, 'name': '2018', 'thumbnail'...</td>\n",
       "      <td>[{'id': 256714495, 'name': 'Launch Trailer', '...</td>\n",
       "    </tr>\n",
       "    <tr>\n",
       "      <th>detailed_description</th>\n",
       "      <td>&lt;h1&gt;Switching the language&lt;/h1&gt;&lt;p&gt;If you want ...</td>\n",
       "      <td>&lt;h1&gt;Feature List&lt;/h1&gt;&lt;p&gt;Will become supply you...</td>\n",
       "      <td>Based on the award winning Block'hood, this VR...</td>\n",
       "    </tr>\n",
       "    <tr>\n",
       "      <th>about_the_game</th>\n",
       "      <td>In the near future, androids have become the w...</td>\n",
       "      <td>In &lt;strong&gt;&amp;quot;Scary NEW YEAR&amp;quot;&lt;/strong&gt;...</td>\n",
       "      <td>Based on the award winning Block'hood, this VR...</td>\n",
       "    </tr>\n",
       "    <tr>\n",
       "      <th>short_description</th>\n",
       "      <td>If there was a robot that could laugh, cry and...</td>\n",
       "      <td>In &amp;quot;Scary NEW YEAR&amp;quot; you try to escap...</td>\n",
       "      <td>Block’hood VR is a neighborhood-building simul...</td>\n",
       "    </tr>\n",
       "    <tr>\n",
       "      <th>text</th>\n",
       "      <td>Game name : Lucy -The Eternity She Wished For-...</td>\n",
       "      <td>Game name : Scary new year\\nDeveloper : Simple...</td>\n",
       "      <td>Game name : Block'hood VR\\nDeveloper : Plethor...</td>\n",
       "    </tr>\n",
       "    <tr>\n",
       "      <th>minimum_owners</th>\n",
       "      <td>100000</td>\n",
       "      <td>0</td>\n",
       "      <td>0</td>\n",
       "    </tr>\n",
       "  </tbody>\n",
       "</table>\n",
       "</div>"
      ],
      "text/plain": [
       "                                                                  7695   \\\n",
       "appid                                                            430960   \n",
       "name                                 Lucy -The Eternity She Wished For-   \n",
       "release_date                                                 2016-02-28   \n",
       "english                                                               1   \n",
       "developer                      Modern Visual Arts Laboratory;SEO INSEOK   \n",
       "publisher                                 Modern Visual Arts Laboratory   \n",
       "platforms                                                       windows   \n",
       "required_age                                                          0   \n",
       "categories                            Single-player;Steam Trading Cards   \n",
       "genres                                          Casual;Indie;Simulation   \n",
       "steamspy_tags                             Visual Novel;Anime;Dating Sim   \n",
       "achievements                                                          0   \n",
       "positive_ratings                                                   5341   \n",
       "negative_ratings                                                    238   \n",
       "average_playtime                                                    213   \n",
       "median_playtime                                                     317   \n",
       "owners                                                    100000-200000   \n",
       "price                                                              6.99   \n",
       "steam_appid                                                      430960   \n",
       "header_image          https://steamcdn-a.akamaihd.net/steam/apps/430...   \n",
       "screenshots           [{'id': 0, 'path_thumbnail': 'https://steamcdn...   \n",
       "background            https://steamcdn-a.akamaihd.net/steam/apps/430...   \n",
       "movies                [{'id': 256660512, 'name': 'Lucy - The Eternit...   \n",
       "detailed_description  <h1>Switching the language</h1><p>If you want ...   \n",
       "about_the_game        In the near future, androids have become the w...   \n",
       "short_description     If there was a robot that could laugh, cry and...   \n",
       "text                  Game name : Lucy -The Eternity She Wished For-...   \n",
       "minimum_owners                                                   100000   \n",
       "\n",
       "                                                                  19514  \\\n",
       "appid                                                            776970   \n",
       "name                                                     Scary new year   \n",
       "release_date                                                 2018-01-25   \n",
       "english                                                               1   \n",
       "developer                                             SimplexGameStudio   \n",
       "publisher                                             SimplexGameStudio   \n",
       "platforms                                             windows;mac;linux   \n",
       "required_age                                                          0   \n",
       "categories                                                Single-player   \n",
       "genres                             Violent;Gore;Action;Adventure;Casual   \n",
       "steamspy_tags                                   Action;Adventure;Casual   \n",
       "achievements                                                          0   \n",
       "positive_ratings                                                      0   \n",
       "negative_ratings                                                      3   \n",
       "average_playtime                                                      0   \n",
       "median_playtime                                                       0   \n",
       "owners                                                          0-20000   \n",
       "price                                                             10.29   \n",
       "steam_appid                                                      776970   \n",
       "header_image          https://steamcdn-a.akamaihd.net/steam/apps/776...   \n",
       "screenshots           [{'id': 0, 'path_thumbnail': 'https://steamcdn...   \n",
       "background            https://steamcdn-a.akamaihd.net/steam/apps/776...   \n",
       "movies                [{'id': 256705711, 'name': '2018', 'thumbnail'...   \n",
       "detailed_description  <h1>Feature List</h1><p>Will become supply you...   \n",
       "about_the_game        In <strong>&quot;Scary NEW YEAR&quot;</strong>...   \n",
       "short_description     In &quot;Scary NEW YEAR&quot; you try to escap...   \n",
       "text                  Game name : Scary new year\\nDeveloper : Simple...   \n",
       "minimum_owners                                                        0   \n",
       "\n",
       "                                                                  19897  \n",
       "appid                                                            787720  \n",
       "name                                                      Block'hood VR  \n",
       "release_date                                                 2018-04-19  \n",
       "english                                                               1  \n",
       "developer                           Plethora-Project LLC;General Arcade  \n",
       "publisher                                              Devolver Digital  \n",
       "platforms                                                       windows  \n",
       "required_age                                                          0  \n",
       "categories                             Single-player;Steam Achievements  \n",
       "genres                                        Indie;Simulation;Strategy  \n",
       "steamspy_tags                                 Simulation;Strategy;Indie  \n",
       "achievements                                                         39  \n",
       "positive_ratings                                                      4  \n",
       "negative_ratings                                                      2  \n",
       "average_playtime                                                      0  \n",
       "median_playtime                                                       0  \n",
       "owners                                                          0-20000  \n",
       "price                                                             11.39  \n",
       "steam_appid                                                      787720  \n",
       "header_image          https://steamcdn-a.akamaihd.net/steam/apps/787...  \n",
       "screenshots           [{'id': 0, 'path_thumbnail': 'https://steamcdn...  \n",
       "background            https://steamcdn-a.akamaihd.net/steam/apps/787...  \n",
       "movies                [{'id': 256714495, 'name': 'Launch Trailer', '...  \n",
       "detailed_description  Based on the award winning Block'hood, this VR...  \n",
       "about_the_game        Based on the award winning Block'hood, this VR...  \n",
       "short_description     Block’hood VR is a neighborhood-building simul...  \n",
       "text                  Game name : Block'hood VR\\nDeveloper : Plethor...  \n",
       "minimum_owners                                                        0  "
      ]
     },
     "execution_count": 6,
     "metadata": {},
     "output_type": "execute_result"
    }
   ],
   "source": [
    "df = games_df.merge(media_df, left_on=\"appid\" , right_on=\"steam_appid\").merge(description_df, on=\"steam_appid\")\n",
    "game_texts = []\n",
    "for _, row in df.iterrows():\n",
    "    game_text = f'''Game name : {row[\"name\"]}\n",
    "Developer : {row[\"developer\"]}\n",
    "Genres : {row[\"genres\"]}\n",
    "Summary : {row[\"short_description\"]}'''\n",
    "    game_texts.append(game_text)\n",
    "df[\"text\"] = game_texts\n",
    "df[\"minimum_owners\"] = df [\"owners\"].apply(lambda v : int(v.split(\"-\")[0]))\n",
    "df.sample(3).T"
   ]
  },
  {
   "cell_type": "code",
   "execution_count": 7,
   "id": "1bdfda5e-2c76-4aaf-9f62-101f7bc21da8",
   "metadata": {},
   "outputs": [],
   "source": [
    "df[\"minimum_owners\"] = df [\"owners\"].apply(lambda v : int(v.split(\"-\")[0]))\n",
    "df = df.sort_values(\"minimum_owners\",ascending = False)"
   ]
  },
  {
   "cell_type": "code",
   "execution_count": 40,
   "id": "21eb7b3c-cf9a-4fd9-89fa-d9869ae57762",
   "metadata": {},
   "outputs": [
    {
     "data": {
      "text/html": [
       "<h3>Sins of a Solar Empire: Rebellion®</h3><strong>Indie;Strategy</strong><p>Command a space-faring empire in Sins of a Solar Empire: Rebellion, the new stand-alone expansion that combines 4X depth with real-time strategy gameplay.</p><img src =\"https://steamcdn-a.akamaihd.net/steam/apps/204880/header.jpg?t=1545069627\">"
      ],
      "text/plain": [
       "<IPython.core.display.HTML object>"
      ]
     },
     "metadata": {},
     "output_type": "display_data"
    }
   ],
   "source": [
    "from IPython.display import display , HTML\n",
    "def display_game(row):\n",
    "    html =''\n",
    "    html +=  f'<h3>{row[\"name\"]}</h3>'\n",
    "    html +=  f'<strong>{row[\"genres\"]}</strong>'\n",
    "    html +=  f'<p>{row[\"short_description\"]}</p>'\n",
    "    html +=  f'<img src =\"{row[\"header_image\"]}\">'\n",
    "    display(HTML(html))\n",
    "    \n",
    "for _, row in df.sample(1, random_state=0).iterrows():\n",
    "    display_game(row)"
   ]
  },
  {
   "cell_type": "code",
   "execution_count": 24,
   "id": "42b821da-b1fa-4fd4-9ce2-88a0007cf60d",
   "metadata": {},
   "outputs": [
    {
     "name": "stderr",
     "output_type": "stream",
     "text": [
      "C:\\Users\\pc\\AppData\\Local\\Programs\\Python\\Python312\\Lib\\site-packages\\numpy\\core\\fromnumeric.py:59: FutureWarning: 'Series.swapaxes' is deprecated and will be removed in a future version. Please use 'Series.transpose' instead.\n",
      "  return bound(*args, **kwds)\n"
     ]
    },
    {
     "name": "stdout",
     "output_type": "stream",
     "text": [
      "0 / 40\n",
      "5 / 40\n",
      "10 / 40\n",
      "15 / 40\n",
      "20 / 40\n",
      "25 / 40\n",
      "30 / 40\n",
      "35 / 40\n"
     ]
    }
   ],
   "source": [
    "import numpy as np\n",
    "top_df = df.sort_values(\"minimum_owners\",ascending = False).head(2000)\n",
    "embeddings = []\n",
    "batches = np.array_split(top_df[\"text\"], len(top_df) // 50)\n",
    "for idx, chunk_text in enumerate(batches):\n",
    "    if idx % 5 == 0:\n",
    "        print(f\"{idx} / {len(batches)}\")\n",
    "    embeddings +=  list(angle.encode(list(chunk_text), to_numpy=True))\n",
    "top_df[\"embedding\"] = embeddings"
   ]
  },
  {
   "cell_type": "code",
   "execution_count": 13,
   "id": "3703d704-e5a4-4daa-a48a-9e534bda3391",
   "metadata": {},
   "outputs": [
    {
     "name": "stdout",
     "output_type": "stream",
     "text": [
      "['Dota 2', \"PLAYERUNKNOWN'S BATTLEGROUNDS\", 'Counter-Strike: Global Offensive', 'Team Fortress 2', 'Unturned', 'Warframe', 'Brawlhalla', 'Counter-Strike: Source', 'Half-Life 2: Lost Coast', 'Half-Life 2: Deathmatch', 'Portal', 'Counter-Strike: Condition Zero', 'Path of Exile', \"Garry's Mod\", 'Robocraft', 'Paladins®', 'Half-Life 2', 'Warface', 'PAYDAY 2', 'Grand Theft Auto V', 'Portal 2', 'The Elder Scrolls V: Skyrim', 'War Thunder', 'Heroes & Generals', 'Counter-Strike', 'Left 4 Dead 2', 'Z1 Battle Royale', 'Half-Life: Blue Shift', \"Sid Meier's Civilization® V\", 'Fallout 4', 'Rust', 'Rocket League®', 'theHunter Classic', 'Team Fortress Classic', 'PlanetSide 2', 'Clicker Heroes', 'Dirty Bomb®', 'Life is Strange - Episode 1', 'Neverwinter', 'ARK: Survival Evolved']\n"
     ]
    }
   ],
   "source": [
    "print(top_df[\"name\"].head(40).tolist())"
   ]
  },
  {
   "cell_type": "code",
   "execution_count": 42,
   "id": "e512797a-65f2-4f56-b916-ca3bb7c1fc72",
   "metadata": {},
   "outputs": [
    {
     "data": {
      "text/html": [
       "<h3>Counter-Strike: Global Offensive</h3><strong>Action;Free to Play</strong><p>Counter-Strike: Global Offensive (CS: GO) expands upon the team-based action gameplay that it pioneered when it was launched 19 years ago. CS: GO features new maps, characters, weapons, and game modes, and delivers updated versions of the classic CS content (de_dust2, etc.).</p><img src =\"https://steamcdn-a.akamaihd.net/steam/apps/730/header.jpg?t=1554409309\">"
      ],
      "text/plain": [
       "<IPython.core.display.HTML object>"
      ]
     },
     "metadata": {},
     "output_type": "display_data"
    },
    {
     "data": {
      "text/html": [
       "<h3>Counter-Strike</h3><strong>Action</strong><p>Play the world's number 1 online action game. Engage in an incredibly realistic brand of terrorist warfare in this wildly popular team-based game. Ally with teammates to complete strategic missions. Take out enemy sites. Rescue hostages. Your role affects your team's success. Your team's success affects your role.</p><img src =\"https://steamcdn-a.akamaihd.net/steam/apps/10/header.jpg?t=1528733245\">"
      ],
      "text/plain": [
       "<IPython.core.display.HTML object>"
      ]
     },
     "metadata": {},
     "output_type": "display_data"
    },
    {
     "data": {
      "text/html": [
       "<h3>Counter-Strike: Source</h3><strong>Action</strong><p>Just updated to include player stats, achievements, new scoreboards and more!</p><img src =\"https://steamcdn-a.akamaihd.net/steam/apps/240/header.jpg?t=1515613564\">"
      ],
      "text/plain": [
       "<IPython.core.display.HTML object>"
      ]
     },
     "metadata": {},
     "output_type": "display_data"
    },
    {
     "data": {
      "text/html": [
       "<h3>Counter-Strike: Condition Zero</h3><strong>Action</strong><p>With its extensive Tour of Duty campaign, a near-limitless number of skirmish modes, updates and new content for Counter-Strike's award-winning multiplayer game play, plus over 12 bonus single player missions, Counter-Strike: Condition Zero is a tremendous offering of single and multiplayer content.</p><img src =\"https://steamcdn-a.akamaihd.net/steam/apps/80/header.jpg?t=1512411962\">"
      ],
      "text/plain": [
       "<IPython.core.display.HTML object>"
      ]
     },
     "metadata": {},
     "output_type": "display_data"
    },
    {
     "data": {
      "text/html": [
       "<h3>Counter-Strike Nexon: Zombies</h3><strong>Action;Casual;Free to Play;Massively Multiplayer</strong><p>Counter-Strike Nexon: Zombies is a Free to Play MMOFPS offering competitive PvP and PvE action including content from the original Counter-Strike and all new game modes, maps, weapons, and hordes of Zombies!</p><img src =\"https://steamcdn-a.akamaihd.net/steam/apps/273110/header.jpg?t=1551937566\">"
      ],
      "text/plain": [
       "<IPython.core.display.HTML object>"
      ]
     },
     "metadata": {},
     "output_type": "display_data"
    },
    {
     "data": {
      "text/html": [
       "<h3>CS2D</h3><strong>Action;Casual;Free to Play;Indie</strong><p>CS2D is a free fast-paced top-down multiplayer shooter. Featuring many different game modes, a built-in map editor and much more.</p><img src =\"https://steamcdn-a.akamaihd.net/steam/apps/666220/header.jpg?t=1512325846\">"
      ],
      "text/plain": [
       "<IPython.core.display.HTML object>"
      ]
     },
     "metadata": {},
     "output_type": "display_data"
    },
    {
     "data": {
      "text/html": [
       "<h3>Team Fortress 2</h3><strong>Action;Free to Play</strong><p>Nine distinct classes provide a broad range of tactical abilities and personalities. Constantly updated with new game modes, maps, equipment and, most importantly, hats!</p><img src =\"https://steamcdn-a.akamaihd.net/steam/apps/440/header.jpg?t=1539304875\">"
      ],
      "text/plain": [
       "<IPython.core.display.HTML object>"
      ]
     },
     "metadata": {},
     "output_type": "display_data"
    },
    {
     "data": {
      "text/html": [
       "<h3>Dota 2</h3><strong>Action;Free to Play;Strategy</strong><p>Every day, millions of players worldwide enter battle as one of over a hundred Dota heroes. And no matter if it's their 10th hour of play or 1,000th, there's always something new to discover. With regular updates that ensure a constant evolution of gameplay, features, and heroes, Dota 2 has taken on a life of its own.</p><img src =\"https://steamcdn-a.akamaihd.net/steam/apps/570/header.jpg?t=1554408611\">"
      ],
      "text/plain": [
       "<IPython.core.display.HTML object>"
      ]
     },
     "metadata": {},
     "output_type": "display_data"
    },
    {
     "data": {
      "text/html": [
       "<h3>Easy™ eSports</h3><strong>Utilities</strong><p>Keeping games fun! Play fair with the leading third-party anti-cheat client for Counter-Strike, used in competitive leagues and tournaments. The Easy™ eSports client is required for joining those game servers.</p><img src =\"https://steamcdn-a.akamaihd.net/steam/apps/282660/header.jpg?t=1553783989\">"
      ],
      "text/plain": [
       "<IPython.core.display.HTML object>"
      ]
     },
     "metadata": {},
     "output_type": "display_data"
    },
    {
     "data": {
      "text/html": [
       "<h3>Team Fortress Classic</h3><strong>Action</strong><p>One of the most popular online action games of all time, Team Fortress Classic features over nine character classes -- from Medic to Spy to Demolition Man -- enlisted in a unique style of online team warfare. Each character class possesses unique weapons, items, and abilities, as teams compete online in a variety of game play modes.</p><img src =\"https://steamcdn-a.akamaihd.net/steam/apps/20/header.jpg?t=1528732825\">"
      ],
      "text/plain": [
       "<IPython.core.display.HTML object>"
      ]
     },
     "metadata": {},
     "output_type": "display_data"
    },
    {
     "data": {
      "text/html": [
       "<h3>Ricochet</h3><strong>Action</strong><p>A futuristic action game that challenges your agility as well as your aim, Ricochet features one-on-one and team matches played in a variety of futuristic battle arenas.</p><img src =\"https://steamcdn-a.akamaihd.net/steam/apps/60/header.jpg?t=1528733092\">"
      ],
      "text/plain": [
       "<IPython.core.display.HTML object>"
      ]
     },
     "metadata": {},
     "output_type": "display_data"
    },
    {
     "data": {
      "text/html": [
       "<h3>Half-Life 2: Deathmatch</h3><strong>Action</strong><p>Fast multiplayer action set in the Half-Life 2 universe! HL2's physics adds a new dimension to deathmatch play. Play straight deathmatch or try Combine vs. Resistance teamplay. Toss a toilet at your friend today!</p><img src =\"https://steamcdn-a.akamaihd.net/steam/apps/320/header.jpg?t=1512752170\">"
      ],
      "text/plain": [
       "<IPython.core.display.HTML object>"
      ]
     },
     "metadata": {},
     "output_type": "display_data"
    },
    {
     "data": {
      "text/html": [
       "<h3>Strife®</h3><strong>Action;Free to Play;RPG;Strategy</strong><p>Strife® is a truly free to play, competitive, online ARTS / MOBA that features non-stop action and engaging combat. Take control of powerful and versatile heroes, each capable of dominating in unique ways, and exert your will in an epic battle between two teams.</p><img src =\"https://steamcdn-a.akamaihd.net/steam/apps/339280/header.jpg?t=1548174420\">"
      ],
      "text/plain": [
       "<IPython.core.display.HTML object>"
      ]
     },
     "metadata": {},
     "output_type": "display_data"
    },
    {
     "data": {
      "text/html": [
       "<h3>Half-Life: Source</h3><strong>Action</strong><p>Winner of over 50 Game of the Year awards, Half-Life set new standards for action games when it was released in 1998. Half-Life: Source is a digitally remastered version of the critically acclaimed and best selling PC game, enhanced via Source technology to include physics simulation, enhanced effects, and more.</p><img src =\"https://steamcdn-a.akamaihd.net/steam/apps/280/header.jpg?t=1530046549\">"
      ],
      "text/plain": [
       "<IPython.core.display.HTML object>"
      ]
     },
     "metadata": {},
     "output_type": "display_data"
    },
    {
     "data": {
      "text/html": [
       "<h3>Half-Life 2</h3><strong>Action</strong><p>1998. HALF-LIFE sends a shock through the game industry with its combination of pounding action and continuous, immersive storytelling. Valve's debut title wins more than 50 game-of-the-year awards on its way to being named \"Best PC Game Ever\" by PC Gamer, and launches a franchise with more than eight million retail units sold worldwide.</p><img src =\"https://steamcdn-a.akamaihd.net/steam/apps/220/header.jpg?t=1541802014\">"
      ],
      "text/plain": [
       "<IPython.core.display.HTML object>"
      ]
     },
     "metadata": {},
     "output_type": "display_data"
    },
    {
     "data": {
      "text/html": [
       "<h3>Half-Life Deathmatch: Source</h3><strong>Action</strong><p>Half-Life Deathmatch: Source is a recreation of the first multiplayer game set in the Half-Life universe. Features all the classic weapons and most-played maps, now running on the Source engine.</p><img src =\"https://steamcdn-a.akamaihd.net/steam/apps/360/header.jpg?t=1530046445\">"
      ],
      "text/plain": [
       "<IPython.core.display.HTML object>"
      ]
     },
     "metadata": {},
     "output_type": "display_data"
    },
    {
     "data": {
      "text/html": [
       "<h3>Half-Life</h3><strong>Action</strong><p>Named Game of the Year by over 50 publications, Valve's debut title blends action and adventure with award-winning technology to create a frighteningly realistic world where players must think to survive. Also includes an exciting multiplayer mode that allows you to play against friends and enemies around the world.</p><img src =\"https://steamcdn-a.akamaihd.net/steam/apps/70/header.jpg?t=1530045175\">"
      ],
      "text/plain": [
       "<IPython.core.display.HTML object>"
      ]
     },
     "metadata": {},
     "output_type": "display_data"
    },
    {
     "data": {
      "text/html": [
       "<h3>Quake Live™</h3><strong>Action</strong><p>From the legendary series that founded the online shooter genre comes the most exciting, energetic, and fast-paced shooter on the Internet. Play against players around the world in over 100 arenas, and a dozen game modes, in one of the most competitive shooters online today. Welcome to Quake Live.</p><img src =\"https://steamcdn-a.akamaihd.net/steam/apps/282440/header.jpg?t=1543499450\">"
      ],
      "text/plain": [
       "<IPython.core.display.HTML object>"
      ]
     },
     "metadata": {},
     "output_type": "display_data"
    },
    {
     "data": {
      "text/html": [
       "<h3>S.K.I.L.L. - Special Force 2 (Shooter)</h3><strong>Action;Adventure;Free to Play;Sports;Strategy</strong><p>S.K.I.L.L. - Special Force 2 is a fast-paced, action-packed FPS shooter based on the Unreal Engine 3. The game features a wide range of game modes, tons of maps and a huge selection of weapons.</p><img src =\"https://steamcdn-a.akamaihd.net/steam/apps/286940/header.jpg?t=1543246868\">"
      ],
      "text/plain": [
       "<IPython.core.display.HTML object>"
      ]
     },
     "metadata": {},
     "output_type": "display_data"
    },
    {
     "data": {
      "text/html": [
       "<h3>Left 4 Dead</h3><strong>Action</strong><p>From Valve (the creators of Counter-Strike, Half-Life and more) comes Left 4 Dead, a co-op action horror game for the PC and Xbox 360 that casts up to four players in an epic struggle for survival against swarming zombie hordes and terrifying mutant monsters.</p><img src =\"https://steamcdn-a.akamaihd.net/steam/apps/500/header.jpg?t=1517005754\">"
      ],
      "text/plain": [
       "<IPython.core.display.HTML object>"
      ]
     },
     "metadata": {},
     "output_type": "display_data"
    }
   ],
   "source": [
    "from sklearn.metrics.pairwise import cosine_distances\n",
    "game_name = 'Counter-Strike: Global Offensive'\n",
    "game_row = top_df[top_df[\"name\"] == game_name].iloc[0]\n",
    "distances = cosine_distances(np.array([game_row.embedding]), np.array(top_df.embedding.tolist()))[0]\n",
    "sorted_indices = distances.argsort()\n",
    "for idx in sorted_indices[:20]:\n",
    "    similar_game = top_df.iloc[idx]\n",
    "    display_game(similar_game)"
   ]
  },
  {
   "cell_type": "code",
   "execution_count": 28,
   "id": "3ded6638-86ee-4bf2-be0b-a0b2ce9dd229",
   "metadata": {},
   "outputs": [
    {
     "data": {
      "text/plain": [
       "array([0.        , 0.2688836 , 0.2759096 , ..., 0.59172994, 0.5917912 ,\n",
       "       0.594054  ], dtype=float32)"
      ]
     },
     "execution_count": 28,
     "metadata": {},
     "output_type": "execute_result"
    }
   ],
   "source": [
    "distances[distances.argsort()]"
   ]
  },
  {
   "cell_type": "code",
   "execution_count": null,
   "id": "45f08aa8-64fd-4637-b904-a00f05eaad38",
   "metadata": {},
   "outputs": [],
   "source": [
    "df[\"embedding\"] = list(angle.encode(df[\"text\"].tolist(), to_numpy=True))"
   ]
  },
  {
   "cell_type": "code",
   "execution_count": 22,
   "id": "d439c1d2-4b14-4e6f-9cfe-ebf357665b44",
   "metadata": {},
   "outputs": [],
   "source": [
    "game_texts = []\n",
    "for _, row in df.iterrows():\n",
    "    game_text = f'''Game name : {row[\"name\"]}\n",
    "Developer : {row[\"developer\"]}\n",
    "Genres : {row[\"genres\"]}\n",
    "Summary : {row[\"short_description\"]}'''\n",
    "    game_texts.append(game_text)\n",
    "df[\"text\"] = game_texts"
   ]
  },
  {
   "cell_type": "code",
   "execution_count": null,
   "id": "b5aa89d9-be82-46e9-9781-5b21855a9d47",
   "metadata": {},
   "outputs": [],
   "source": [
    "list(angle.encode(df[\"short_description\"].tolist()[:100], to_numpy=True))"
   ]
  },
  {
   "cell_type": "code",
   "execution_count": null,
   "id": "ff2d10fe-2996-4cd9-95e4-40d551a0e7e5",
   "metadata": {},
   "outputs": [],
   "source": [
    "#pip install -U angle-emb"
   ]
  },
  {
   "cell_type": "code",
   "execution_count": null,
   "id": "164f40c3-e307-439f-a257-3fc8f2363a95",
   "metadata": {},
   "outputs": [],
   "source": [
    "#pip install tf-keras"
   ]
  },
  {
   "cell_type": "code",
   "execution_count": null,
   "id": "8c972717-1e08-41dd-a1d1-e7cd9b690906",
   "metadata": {},
   "outputs": [],
   "source": [
    "vec = angle.encode('hello world', to_numpy = True)\n",
    "print(vec)\n",
    "vecs=angle.encode(['hello world1','hello world2'], to_numpy=True)\n",
    "print(vecs)"
   ]
  },
  {
   "cell_type": "code",
   "execution_count": null,
   "id": "48f89ec0-a03b-43b1-9fe3-f14417a9ee76",
   "metadata": {},
   "outputs": [],
   "source": [
    "from sklearn.metrics.pairwise import cosine_distances\n",
    "cosine_distances(angle.encode(['beef stakes is delicious ',\n",
    "                              'the capital of Morocco is Rabat',\n",
    "                              'I love meat']))[0]"
   ]
  },
  {
   "cell_type": "code",
   "execution_count": null,
   "id": "546b8800-1449-4929-bac9-369dbd9b00ae",
   "metadata": {},
   "outputs": [],
   "source": [
    "#Minute 52:27"
   ]
  }
 ],
 "metadata": {
  "kernelspec": {
   "display_name": "Python 3 (ipykernel)",
   "language": "python",
   "name": "python3"
  },
  "language_info": {
   "codemirror_mode": {
    "name": "ipython",
    "version": 3
   },
   "file_extension": ".py",
   "mimetype": "text/x-python",
   "name": "python",
   "nbconvert_exporter": "python",
   "pygments_lexer": "ipython3",
   "version": "3.12.4"
  }
 },
 "nbformat": 4,
 "nbformat_minor": 5
}
